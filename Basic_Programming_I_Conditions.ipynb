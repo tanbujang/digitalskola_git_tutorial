{
  "nbformat": 4,
  "nbformat_minor": 0,
  "metadata": {
    "colab": {
      "name": "Basic Programming I: Conditions",
      "provenance": [],
      "collapsed_sections": [],
      "include_colab_link": true
    },
    "kernelspec": {
      "name": "python3",
      "display_name": "Python 3"
    },
    "language_info": {
      "name": "python"
    }
  },
  "cells": [
    {
      "cell_type": "markdown",
      "metadata": {
        "id": "view-in-github",
        "colab_type": "text"
      },
      "source": [
        "<a href=\"https://colab.research.google.com/github/tanbujang/digitalskola_git_tutorial/blob/main/Basic_Programming_I_Conditions.ipynb\" target=\"_parent\"><img src=\"https://colab.research.google.com/assets/colab-badge.svg\" alt=\"Open In Colab\"/></a>"
      ]
    },
    {
      "cell_type": "markdown",
      "metadata": {
        "id": "-mHhXkP1Bo73"
      },
      "source": [
        "# Basic Programming I: Conditions"
      ]
    },
    {
      "cell_type": "markdown",
      "metadata": {
        "id": "pfVxHJswDYb0"
      },
      "source": [
        "Control Flow"
      ]
    },
    {
      "cell_type": "code",
      "metadata": {
        "colab": {
          "base_uri": "https://localhost:8080/"
        },
        "id": "QQQAs05vDRAU",
        "outputId": "bccae163-ff71-44e6-864c-c7066719a457"
      },
      "source": [
        "# Sequential\n",
        "a=20\n",
        "b=10\n",
        "c=a-b\n",
        "print(\"a-b =\",c)"
      ],
      "execution_count": null,
      "outputs": [
        {
          "output_type": "stream",
          "name": "stdout",
          "text": [
            "a-b = 10\n"
          ]
        }
      ]
    },
    {
      "cell_type": "code",
      "metadata": {
        "colab": {
          "base_uri": "https://localhost:8080/"
        },
        "id": "ytnYHuN0DTTn",
        "outputId": "98d64813-aae3-46ac-c00d-ca1a2f7648ae"
      },
      "source": [
        "# Conditional\n",
        "a = 3\n",
        "b = 5\n",
        "if a > b: #akan jadi False\n",
        "   print(\"a is bigger than b\")\n",
        "else:\n",
        "   print(\"a is smaller than b\")\n",
        "print(\"Done\")"
      ],
      "execution_count": null,
      "outputs": [
        {
          "output_type": "stream",
          "name": "stdout",
          "text": [
            "a is smaller than b\n",
            "Done\n"
          ]
        }
      ]
    },
    {
      "cell_type": "markdown",
      "metadata": {
        "id": "BDKJlZrhDEue"
      },
      "source": [
        "## IF statement"
      ]
    },
    {
      "cell_type": "markdown",
      "metadata": {
        "id": "7adQ6D0HDdix"
      },
      "source": [
        "Single Condition"
      ]
    },
    {
      "cell_type": "code",
      "metadata": {
        "colab": {
          "base_uri": "https://localhost:8080/"
        },
        "id": "Ry5vFetE7jfs",
        "outputId": "6c305e72-92d7-4bb2-b884-b449f60127a9"
      },
      "source": [
        "a = 4\n",
        "if a == 3:\n",
        "  print(\"a is three\")\n",
        "print(\"Done\")"
      ],
      "execution_count": null,
      "outputs": [
        {
          "output_type": "stream",
          "name": "stdout",
          "text": [
            "Done\n"
          ]
        }
      ]
    },
    {
      "cell_type": "markdown",
      "metadata": {
        "id": "tkJidOMfDju9"
      },
      "source": [
        "Two Condition"
      ]
    },
    {
      "cell_type": "code",
      "metadata": {
        "colab": {
          "base_uri": "https://localhost:8080/"
        },
        "id": "QpCZyf1bDnX5",
        "outputId": "cd4fdbd3-e1a5-4fd9-8029-7ff2e4b8294f"
      },
      "source": [
        "a = 5\n",
        "b = 5\n",
        "if a > b:\n",
        "   print(\"a is bigger than b\")\n",
        "else:\n",
        "   print(\"a is smaller than b\")\n",
        "print(\"Done\")"
      ],
      "execution_count": null,
      "outputs": [
        {
          "output_type": "stream",
          "name": "stdout",
          "text": [
            "a is smaller than b\n",
            "Done\n"
          ]
        }
      ]
    },
    {
      "cell_type": "markdown",
      "metadata": {
        "id": "Qh9dg_1mDlSv"
      },
      "source": [
        "Multiple Condition"
      ]
    },
    {
      "cell_type": "code",
      "metadata": {
        "colab": {
          "base_uri": "https://localhost:8080/"
        },
        "id": "rgeZHAbL9eip",
        "outputId": "a3a71bdd-d0ab-4a03-ea02-eb1dfb09c83f"
      },
      "source": [
        "a = 5\n",
        "b = 5\n",
        "if a > b:\n",
        "   print(\"a is bigger than b\")\n",
        "elif a < b:\n",
        "   print(\"a is smaller than b\")\n",
        "else:\n",
        "   print(\"a and b is the same\")"
      ],
      "execution_count": null,
      "outputs": [
        {
          "output_type": "stream",
          "name": "stdout",
          "text": [
            "a and b is the same\n"
          ]
        }
      ]
    },
    {
      "cell_type": "code",
      "metadata": {
        "id": "vnpc44MKEf-Q"
      },
      "source": [
        "a = 6\n",
        "if a == 1:\n",
        "   print(\"a is 1\")\n",
        "elif a == 2:\n",
        "   print(\"a is 2\")\n",
        "elif a == 3:\n",
        "   print(\"a is 3\")\n",
        "elif a == 4:\n",
        "   print(\"a is 4\")\n",
        "elif a == 5:\n",
        "   print(\"a is 5\")\n",
        "else:\n",
        "   print(\"a is other than 1, 2, 3, 4, or 5\")"
      ],
      "execution_count": null,
      "outputs": []
    },
    {
      "cell_type": "code",
      "metadata": {
        "colab": {
          "base_uri": "https://localhost:8080/"
        },
        "id": "WZsjNsh84_ZL",
        "outputId": "0fe6a625-40e3-44a4-db45-b625edbcc88f"
      },
      "source": [
        "#sebuah kondisi yang menyatakan error\n",
        "a = False\n",
        "if a:\n",
        "  print(\"Success\")\n",
        "else:\n",
        "  print(\"Error\")"
      ],
      "execution_count": null,
      "outputs": [
        {
          "output_type": "stream",
          "name": "stdout",
          "text": [
            "Error\n"
          ]
        }
      ]
    },
    {
      "cell_type": "markdown",
      "metadata": {
        "id": "4Mh1aiPlD0O-"
      },
      "source": [
        "Single Expression"
      ]
    },
    {
      "cell_type": "code",
      "metadata": {
        "colab": {
          "base_uri": "https://localhost:8080/"
        },
        "id": "XMfcxOUXC9LH",
        "outputId": "c653b841-b749-4328-872c-849c00304193"
      },
      "source": [
        "a = 7\n",
        "b = 7\n",
        "if a <= b:\n",
        "   print(\"a is smaller than b\")"
      ],
      "execution_count": null,
      "outputs": [
        {
          "output_type": "stream",
          "text": [
            "a is smaller than b\n"
          ],
          "name": "stdout"
        }
      ]
    },
    {
      "cell_type": "markdown",
      "metadata": {
        "id": "2kPBzKnxD7DV"
      },
      "source": [
        "Multiple Expression"
      ]
    },
    {
      "cell_type": "code",
      "metadata": {
        "colab": {
          "base_uri": "https://localhost:8080/"
        },
        "id": "Vg6Qc4cSD9S6",
        "outputId": "196cd588-29ca-402a-ea00-ff2aa0dc0c9f"
      },
      "source": [
        "a = 3\n",
        "b = 7\n",
        "c = 20\n",
        "if c > b or c < a:\n",
        "  print(\"At least one of the expressions is True\")\n",
        "else:\n",
        "  print(\"All expressions is False\")"
      ],
      "execution_count": null,
      "outputs": [
        {
          "output_type": "stream",
          "name": "stdout",
          "text": [
            "All expressions is False\n"
          ]
        }
      ]
    },
    {
      "cell_type": "code",
      "metadata": {
        "colab": {
          "base_uri": "https://localhost:8080/"
        },
        "id": "iouInqsD5smu",
        "outputId": "02fa208e-bb8e-47a8-8c82-62ec7f18ec04"
      },
      "source": [
        "a = 3\n",
        "b = 7\n",
        "c = 20\n",
        "if a < b and b < c or a > c and a == b or a == c:\n",
        "   print(\"a is smaller than b\")"
      ],
      "execution_count": null,
      "outputs": [
        {
          "output_type": "stream",
          "name": "stdout",
          "text": [
            "a is smaller than b\n"
          ]
        }
      ]
    },
    {
      "cell_type": "markdown",
      "metadata": {
        "id": "_U4ZtFqVEOMP"
      },
      "source": [
        "Shorthand"
      ]
    },
    {
      "cell_type": "code",
      "metadata": {
        "colab": {
          "base_uri": "https://localhost:8080/"
        },
        "id": "VZ5vu4fd7mE2",
        "outputId": "af551900-767a-49dd-933b-ae625ef87e3a"
      },
      "source": [
        "a = 3\n",
        "if a == 3: \n",
        "  print(\"a is three\")"
      ],
      "execution_count": null,
      "outputs": [
        {
          "output_type": "stream",
          "name": "stdout",
          "text": [
            "a is three\n"
          ]
        }
      ]
    },
    {
      "cell_type": "code",
      "metadata": {
        "colab": {
          "base_uri": "https://localhost:8080/"
        },
        "id": "8A9OKLt4D_Sn",
        "outputId": "c3c57d67-7351-4175-e907-1bb4208761da"
      },
      "source": [
        "a = 3\n",
        "if a == 3: print(\"a is three\")"
      ],
      "execution_count": null,
      "outputs": [
        {
          "output_type": "stream",
          "name": "stdout",
          "text": [
            "a is three\n"
          ]
        }
      ]
    },
    {
      "cell_type": "code",
      "metadata": {
        "colab": {
          "base_uri": "https://localhost:8080/"
        },
        "id": "6yUJI5DE7rLM",
        "outputId": "37aec57d-773b-4de9-dbb9-959e60ae4f69"
      },
      "source": [
        "a = 5\n",
        "b = 5\n",
        "if a==b:\n",
        "  print(\"same\")\n",
        "else: \n",
        "  print(\"different\")"
      ],
      "execution_count": null,
      "outputs": [
        {
          "output_type": "stream",
          "name": "stdout",
          "text": [
            "same\n"
          ]
        }
      ]
    },
    {
      "cell_type": "code",
      "metadata": {
        "colab": {
          "base_uri": "https://localhost:8080/"
        },
        "id": "vnAs6TrIEUTk",
        "outputId": "e0e3af57-d24e-4b19-8dc0-6d0e66cb8b51"
      },
      "source": [
        "a = 5\n",
        "b = 5\n",
        "print(\"same\") if a==b else print(\"different\")"
      ],
      "execution_count": null,
      "outputs": [
        {
          "output_type": "stream",
          "name": "stdout",
          "text": [
            "same\n"
          ]
        }
      ]
    },
    {
      "cell_type": "markdown",
      "metadata": {
        "id": "1cWJSzD5EaQG"
      },
      "source": [
        "Nested If"
      ]
    },
    {
      "cell_type": "code",
      "metadata": {
        "colab": {
          "base_uri": "https://localhost:8080/"
        },
        "id": "_0HKbBPVEXZH",
        "outputId": "2460b29e-0b3e-40e0-c5ca-ca9310bce367"
      },
      "source": [
        "x = 41\n",
        "\n",
        "if x > 20:\n",
        "  print(\"Above twenty, \")\n",
        "  if x > 40:\n",
        "    print(\"and also above 40\")\n",
        "    if x > 50:\n",
        "      print(\"and also above 50\")\n",
        "  else:\n",
        "    print(\"but not above 40\")\n",
        "else:\n",
        "  print(\"Below twenty\")"
      ],
      "execution_count": null,
      "outputs": [
        {
          "output_type": "stream",
          "name": "stdout",
          "text": [
            "Above twenty, \n",
            "and also above 40\n"
          ]
        }
      ]
    },
    {
      "cell_type": "markdown",
      "metadata": {
        "id": "51UXFqUJfuwq"
      },
      "source": [
        "## Switch case"
      ]
    },
    {
      "cell_type": "code",
      "metadata": {
        "colab": {
          "base_uri": "https://localhost:8080/"
        },
        "id": "sirdNjUZf2Tk",
        "outputId": "0c1d6871-6d50-4f71-f4f2-e5b0716c1807"
      },
      "source": [
        "# Python code\n",
        "def switch_months(argument):\n",
        "    switcher = {\n",
        "        1: \"January\",\n",
        "        2: \"February\",\n",
        "        3: \"March\",\n",
        "        4: \"April\",\n",
        "        5: \"May\",\n",
        "        6: \"June\",\n",
        "        7: \"July\",\n",
        "        8: \"August\",\n",
        "        9: \"September\",\n",
        "        10: \"October\",\n",
        "        11: \"November\",\n",
        "        12: \"December\"\n",
        "    }\n",
        "    return switcher.get(argument, \"Invalid month\")\n",
        "print(switch_months(13))"
      ],
      "execution_count": null,
      "outputs": [
        {
          "output_type": "stream",
          "name": "stdout",
          "text": [
            "Invalid month\n"
          ]
        }
      ]
    },
    {
      "cell_type": "code",
      "metadata": {
        "colab": {
          "base_uri": "https://localhost:8080/"
        },
        "id": "x3GzZx3ofyre",
        "outputId": "d4d5cf22-73c0-4709-d2f2-79cbb4e33442"
      },
      "source": [
        "month = {\t1:'January',\n",
        "          2:'February',\n",
        "          3:'March',\n",
        "          4:'April',\n",
        "          5:'May',\n",
        "          6:'June',\n",
        "          7:'July',\n",
        "          8:'August',\n",
        "          9:'September',\n",
        "          10:'October',\n",
        "          11:'November',\n",
        "          12:'December'}\n",
        "print(month[1])"
      ],
      "execution_count": null,
      "outputs": [
        {
          "output_type": "stream",
          "name": "stdout",
          "text": [
            "January\n"
          ]
        }
      ]
    },
    {
      "cell_type": "markdown",
      "metadata": {
        "id": "cpGmGx439u3Q"
      },
      "source": [
        "### Input"
      ]
    },
    {
      "cell_type": "code",
      "metadata": {
        "colab": {
          "base_uri": "https://localhost:8080/"
        },
        "id": "Fa3PDOqS9Krj",
        "outputId": "fb2f3f5e-e9f0-499b-f4bf-1ec59f358977"
      },
      "source": [
        "x = int(input())\n",
        "print(type(x))"
      ],
      "execution_count": null,
      "outputs": [
        {
          "output_type": "stream",
          "name": "stdout",
          "text": [
            "8\n",
            "<class 'int'>\n"
          ]
        }
      ]
    },
    {
      "cell_type": "code",
      "metadata": {
        "colab": {
          "base_uri": "https://localhost:8080/"
        },
        "id": "E4SrBeKc8dVx",
        "outputId": "30e35b09-390d-44e9-a6a8-dc9eb29c57d7"
      },
      "source": [
        "x = int(input())\n",
        "\n",
        "if x > 20:\n",
        "  print(\"Above twenty, \")\n",
        "  if x > 40:\n",
        "    print(\"and also above 40\")\n",
        "  else:\n",
        "    print(\"but not above 40\")\n",
        "else:\n",
        "  print(\"Below twenty\")"
      ],
      "execution_count": null,
      "outputs": [
        {
          "output_type": "stream",
          "name": "stdout",
          "text": [
            "41\n",
            "Above twenty, \n",
            "and also above 40\n"
          ]
        }
      ]
    },
    {
      "cell_type": "markdown",
      "metadata": {
        "id": "r6OlsZCk90Dh"
      },
      "source": [
        "# Cases"
      ]
    },
    {
      "cell_type": "markdown",
      "metadata": {
        "id": "HqPo2HsXIe8h"
      },
      "source": [
        "1. Given a number, determine whether that number is odd or even\n"
      ]
    },
    {
      "cell_type": "markdown",
      "metadata": {
        "id": "8POX-x9j-Iic"
      },
      "source": [
        "ganjil: 1 3 5 7 9 11 13 ....  \n",
        "genap : 2 4 6 8 10 12 ...."
      ]
    },
    {
      "cell_type": "markdown",
      "metadata": {
        "id": "WciWphhV_SzK"
      },
      "source": [
        "x % 2 == 0 -> genap  \n",
        "x jika dibagi dengan 2, maka hasil baginya adalah 0"
      ]
    },
    {
      "cell_type": "code",
      "metadata": {
        "colab": {
          "base_uri": "https://localhost:8080/"
        },
        "id": "QN9IZkD7qJKZ",
        "outputId": "a6d73c4f-5b8c-4ed7-b2db-30641f2129b4"
      },
      "source": [
        "x = int(input())\n",
        "\n",
        "if x % 2 == 0:\n",
        "  print(\"Even\")\n",
        "else:\n",
        "  print(\"Odd\")"
      ],
      "execution_count": null,
      "outputs": [
        {
          "output_type": "stream",
          "name": "stdout",
          "text": [
            "13\n",
            "Odd\n"
          ]
        }
      ]
    },
    {
      "cell_type": "markdown",
      "metadata": {
        "id": "ZcRh4j4TI3_A"
      },
      "source": [
        "2. Given a number, determine whether that number is positive, negative, or zero\n"
      ]
    },
    {
      "cell_type": "code",
      "metadata": {
        "colab": {
          "base_uri": "https://localhost:8080/"
        },
        "id": "jfz4SoDXqJ9P",
        "outputId": "22a1e700-e679-4153-b79f-d274661ab879"
      },
      "source": [
        "x = int(input())\n",
        "\n",
        "if x > 0:\n",
        "  print(\"positive\")\n",
        "elif x < 0:\n",
        "  print(\"negative\")\n",
        "else:\n",
        "  print(\"zero\")"
      ],
      "execution_count": null,
      "outputs": [
        {
          "output_type": "stream",
          "name": "stdout",
          "text": [
            "0\n",
            "zero\n"
          ]
        }
      ]
    },
    {
      "cell_type": "markdown",
      "metadata": {
        "id": "Zxl1Z74GJg9V"
      },
      "source": [
        "3. A school has following rules for grading system:  \n",
        "a. Below 50 - Bad  \n",
        "b. 50 to 75 - Good  \n",
        "c. Above 75 - Excellent  \n",
        "Ask user to enter marks and print the corresponding grade."
      ]
    },
    {
      "cell_type": "code",
      "metadata": {
        "colab": {
          "base_uri": "https://localhost:8080/"
        },
        "id": "qh5I4d2fqL--",
        "outputId": "6af0eed4-ae0c-4ca4-f8c2-b3be083131fd"
      },
      "source": [
        "x = int(input())\n",
        "\n",
        "if x < 50:\n",
        "  print(\"bad\")\n",
        "elif (x >= 50) and (x <= 75):\n",
        "  print(\"good\")\n",
        "elif x > 75:\n",
        "  print(\"excellent\")"
      ],
      "execution_count": null,
      "outputs": [
        {
          "output_type": "stream",
          "name": "stdout",
          "text": [
            "76\n",
            "excellent\n"
          ]
        }
      ]
    },
    {
      "cell_type": "code",
      "metadata": {
        "colab": {
          "base_uri": "https://localhost:8080/"
        },
        "id": "e6jiF_8gA0dh",
        "outputId": "e1154555-f84c-4704-cbc1-35d0a2c66d59"
      },
      "source": [
        "x = int(input())\n",
        "\n",
        "if x < 50:\n",
        "  print(\"bad\")\n",
        "elif x <= 75:\n",
        "  print(\"good\")\n",
        "else:\n",
        "  print(\"excellent\")"
      ],
      "execution_count": null,
      "outputs": [
        {
          "output_type": "stream",
          "name": "stdout",
          "text": [
            "76\n",
            "excellent\n"
          ]
        }
      ]
    },
    {
      "cell_type": "markdown",
      "metadata": {
        "id": "hiM17yONKrm0"
      },
      "source": [
        "4. Given a number, determine whether that number is positive, negative, or zero.  \n",
        " If the number is positive, determine whether the number is odd or even"
      ]
    },
    {
      "cell_type": "code",
      "metadata": {
        "id": "EIWI8UpzJhZ0",
        "colab": {
          "base_uri": "https://localhost:8080/"
        },
        "outputId": "2953a251-2e37-4faa-b024-32649b6e399a"
      },
      "source": [
        "x = int(input())\n",
        "\n",
        "if x > 0: #positif\n",
        "  print(\"positive\")\n",
        "  if x % 2 == 0: #genap\n",
        "    print(\"Even\")\n",
        "  else:\n",
        "    print(\"Odd\")\n",
        "elif x < 0:\n",
        "  print(\"negative\")\n",
        "else:\n",
        "  print(\"zero\")"
      ],
      "execution_count": null,
      "outputs": [
        {
          "output_type": "stream",
          "name": "stdout",
          "text": [
            "-10\n",
            "negative\n",
            "Even\n"
          ]
        }
      ]
    }
  ]
}